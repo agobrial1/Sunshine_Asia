{
 "cells": [
  {
   "cell_type": "code",
   "execution_count": 1,
   "metadata": {},
   "outputs": [
    {
     "name": "stdout",
     "output_type": "stream",
     "text": [
      "Non-numeric placeholders in 'City': ['Kabul' 'Baku' 'Beirut' 'Dhaka' 'Beijing' 'Chongqing' 'Fuzhou'\n",
      " 'Guangzhou' 'Hong Kong' 'Lhasa' 'Macau' 'Nanjing' 'Ningbo' 'Qingdao'\n",
      " 'Shanghai' 'Tianjin' 'Ürümqi' 'Wuhan' 'Xiamen' 'Delhi' 'Kolkata' 'Mumbai'\n",
      " 'Bangalore' 'Chennai' 'Denpasar' 'Jakarta' 'Makassar' 'Medan'\n",
      " 'Bandar Abbas' 'Isfahan' 'Mashhad' 'Tehran' 'Baghdad' 'Tel Aviv'\n",
      " 'Sapporo' 'Sendai' 'Tokyo' 'Kanazawa' 'Nagoya' 'Almaty' 'Astana'\n",
      " 'Ulaanbaatar' 'Pyongyang' 'Muscat' 'Karachi' 'Lahore' 'Quetta' 'Manila'\n",
      " 'Dikson' 'Irkutsk' 'Omsk' 'Petropavlovsk-\\nKamchatsky' 'Vladivostok'\n",
      " 'Yakutsk' 'Abha' 'Riyadh' 'Singapore' 'Busan' 'Seoul' 'Kaohsiung'\n",
      " 'Taichung' 'Taipei' 'Bangkok' 'Chiang Mai' 'Hat Yai' 'Nakhon Ratchasima'\n",
      " 'Ankara' 'Dubai' 'Tashkent' 'Da Lat' 'Da Nang' 'Hanoi' 'Ho Chi Minh City']\n"
     ]
    }
   ],
   "source": [
    "import pandas as pd\n",
    "\n",
    "# Load the dataset\n",
    "df = pd.read_csv('Sunshine in Asian Cities.csv')\n",
    "\n",
    "# Function to find non-numeric placeholders in each column\n",
    "def find_placeholders(dataframe):\n",
    "    for column in dataframe.columns:\n",
    "        # Attempt to convert the column to numeric, setting errors='coerce'\n",
    "        # This will replace non-convertible values with NaN\n",
    "        numeric_series = pd.to_numeric(dataframe[column], errors='coerce')\n",
    "        \n",
    "        # Find unique values in the original series that were turned into NaNs\n",
    "        non_numeric_values = dataframe[column][numeric_series.isna()].unique()\n",
    "        \n",
    "        # Print out the non-numeric values found in this column\n",
    "        if non_numeric_values.size > 0:\n",
    "            print(f\"Non-numeric placeholders in '{column}': {non_numeric_values}\")\n",
    "\n",
    "# Call the function\n",
    "find_placeholders(df)"
   ]
  },
  {
   "cell_type": "code",
   "execution_count": 3,
   "metadata": {},
   "outputs": [
    {
     "name": "stdout",
     "output_type": "stream",
     "text": [
      "['Kabul' 'Baku' 'Beirut' 'Dhaka' 'Beijing' 'Chongqing' 'Fuzhou'\n",
      " 'Guangzhou' 'Hong Kong' 'Lhasa' 'Macau' 'Nanjing' 'Ningbo' 'Qingdao'\n",
      " 'Shanghai' 'Tianjin' 'Ürümqi' 'Wuhan' 'Xiamen' 'Delhi' 'Kolkata' 'Mumbai'\n",
      " 'Bangalore' 'Chennai' 'Denpasar' 'Jakarta' 'Makassar' 'Medan'\n",
      " 'Bandar Abbas' 'Isfahan' 'Mashhad' 'Tehran' 'Baghdad' 'Tel Aviv'\n",
      " 'Sapporo' 'Sendai' 'Tokyo' 'Kanazawa' 'Nagoya' 'Almaty' 'Astana'\n",
      " 'Ulaanbaatar' 'Pyongyang' 'Muscat' 'Karachi' 'Lahore' 'Quetta' 'Manila'\n",
      " 'Dikson' 'Irkutsk' 'Omsk' 'Petropavlovsk-\\nKamchatsky' 'Vladivostok'\n",
      " 'Yakutsk' 'Abha' 'Riyadh' 'Singapore' 'Busan' 'Seoul' 'Kaohsiung'\n",
      " 'Taichung' 'Taipei' 'Bangkok' 'Chiang Mai' 'Hat Yai' 'Nakhon Ratchasima'\n",
      " 'Ankara' 'Dubai' 'Tashkent' 'Da Lat' 'Da Nang' 'Hanoi' 'Ho Chi Minh City']\n"
     ]
    }
   ],
   "source": [
    "# return all cities\n",
    "cities = df['City'].unique()\n",
    "print(cities)"
   ]
  }
 ],
 "metadata": {
  "kernelspec": {
   "display_name": "base",
   "language": "python",
   "name": "python3"
  },
  "language_info": {
   "codemirror_mode": {
    "name": "ipython",
    "version": 3
   },
   "file_extension": ".py",
   "mimetype": "text/x-python",
   "name": "python",
   "nbconvert_exporter": "python",
   "pygments_lexer": "ipython3",
   "version": "3.11.5"
  }
 },
 "nbformat": 4,
 "nbformat_minor": 2
}
